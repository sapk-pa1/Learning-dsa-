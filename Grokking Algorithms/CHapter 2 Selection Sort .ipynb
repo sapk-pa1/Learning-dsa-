{
 "cells": [
  {
   "cell_type": "markdown",
   "id": "740b0c1a",
   "metadata": {},
   "source": [
    "# SELECTION SORT "
   ]
  },
  {
   "cell_type": "code",
   "execution_count": null,
   "id": "ff6aa627",
   "metadata": {},
   "outputs": [],
   "source": [
    "# create a list for the sorting using the selection sort using the random module, use 20 elements "
   ]
  },
  {
   "cell_type": "code",
   "execution_count": 3,
   "id": "7f47277b",
   "metadata": {},
   "outputs": [],
   "source": [
    "import random \n",
    "arr = []\n",
    "for i in range(20): \n",
    "    arr.append(random.randint(1,100))"
   ]
  },
  {
   "cell_type": "code",
   "execution_count": 16,
   "id": "2688fe85",
   "metadata": {},
   "outputs": [],
   "source": [
    "arr = list(set(arr)) # no repeating elements "
   ]
  },
  {
   "cell_type": "code",
   "execution_count": 17,
   "id": "45177c46",
   "metadata": {},
   "outputs": [
    {
     "data": {
      "text/plain": [
       "[97, 98, 36, 5, 42, 75, 76, 45, 14, 83, 19, 22, 28, 94]"
      ]
     },
     "execution_count": 17,
     "metadata": {},
     "output_type": "execute_result"
    }
   ],
   "source": [
    "arr"
   ]
  },
  {
   "cell_type": "code",
   "execution_count": 18,
   "id": "f977405b",
   "metadata": {},
   "outputs": [],
   "source": [
    "# function to find the smallest in the arr and then return the index of that \n",
    "def smallest_arr(arr):\n",
    "    #just initializing the smallest value \n",
    "    smallest = arr[0]\n",
    "    small_ind = 0 \n",
    "    for i in range(1,len(arr)): \n",
    "        if smallest > arr[i]:\n",
    "            small_ind = i \n",
    "            smallest = arr[i]\n",
    "    return small_ind"
   ]
  },
  {
   "cell_type": "code",
   "execution_count": 19,
   "id": "167579ce",
   "metadata": {},
   "outputs": [
    {
     "data": {
      "text/plain": [
       "3"
      ]
     },
     "execution_count": 19,
     "metadata": {},
     "output_type": "execute_result"
    }
   ],
   "source": [
    "smallest_arr(arr)"
   ]
  },
  {
   "cell_type": "code",
   "execution_count": 22,
   "id": "b82fb225",
   "metadata": {},
   "outputs": [],
   "source": [
    "def selection_sort(arr):\n",
    "    new_arr = []\n",
    "    for i in range(len(arr)): \n",
    "        smallest = smallest_arr(arr)\n",
    "        new_arr.append(arr.pop(smallest))# pop returns the values and also removes the values form the list \n",
    "    return new_arr\n"
   ]
  },
  {
   "cell_type": "code",
   "execution_count": 23,
   "id": "0e6f0d41",
   "metadata": {},
   "outputs": [
    {
     "data": {
      "text/plain": [
       "[5, 14, 19, 22, 28, 36, 42, 45, 75, 76, 83, 94, 97, 98]"
      ]
     },
     "execution_count": 23,
     "metadata": {},
     "output_type": "execute_result"
    }
   ],
   "source": [
    "selection_sort(arr)"
   ]
  },
  {
   "cell_type": "code",
   "execution_count": null,
   "id": "fd1c3f00",
   "metadata": {},
   "outputs": [],
   "source": []
  }
 ],
 "metadata": {
  "kernelspec": {
   "display_name": "Python 3 (ipykernel)",
   "language": "python",
   "name": "python3"
  },
  "language_info": {
   "codemirror_mode": {
    "name": "ipython",
    "version": 3
   },
   "file_extension": ".py",
   "mimetype": "text/x-python",
   "name": "python",
   "nbconvert_exporter": "python",
   "pygments_lexer": "ipython3",
   "version": "3.11.1"
  }
 },
 "nbformat": 4,
 "nbformat_minor": 5
}
