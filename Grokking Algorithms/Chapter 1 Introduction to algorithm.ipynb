{
 "cells": [
  {
   "cell_type": "code",
   "execution_count": 2,
   "id": "75f8f57e",
   "metadata": {},
   "outputs": [
    {
     "name": "stdout",
     "output_type": "stream",
     "text": [
      "Enter a Number between 1 and 100 :12\n"
     ]
    }
   ],
   "source": [
    "# an simple implementation of the binary search \n",
    "lst = [x for x in range(1,100)]\n",
    "user_number = int(input(\"Enter a Number between 1 and 100 :\"))"
   ]
  },
  {
   "cell_type": "code",
   "execution_count": 13,
   "id": "d1bbc37f",
   "metadata": {},
   "outputs": [],
   "source": [
    "import random "
   ]
  },
  {
   "cell_type": "code",
   "execution_count": 19,
   "id": "963164da",
   "metadata": {},
   "outputs": [
    {
     "data": {
      "text/plain": [
       "19"
      ]
     },
     "execution_count": 19,
     "metadata": {},
     "output_type": "execute_result"
    }
   ],
   "source": [
    "random.randint(1,20)"
   ]
  },
  {
   "cell_type": "code",
   "execution_count": 20,
   "id": "aa9f3b45",
   "metadata": {},
   "outputs": [],
   "source": [
    "# randomly remove 20 numbers from the lst \n",
    "for i in range(20): \n",
    "    lst.pop(random.randint(1,20))"
   ]
  },
  {
   "cell_type": "code",
   "execution_count": 22,
   "id": "2abdf078",
   "metadata": {},
   "outputs": [
    {
     "name": "stdout",
     "output_type": "stream",
     "text": [
      "[1, 2, 3, 6, 7, 9, 10, 12, 14, 20, 26, 27, 31, 32, 34, 35, 37, 38, 39, 40, 41, 42, 43, 44, 45, 46, 47, 48, 49, 50, 51, 52, 53, 54, 55, 56, 57, 58, 59, 60, 61, 62, 63, 64, 65, 66, 67, 68, 69, 70, 71, 72, 73, 74, 75, 76, 77, 78, 79, 80, 81, 82, 83, 84, 85, 86, 87, 88, 89, 90, 91, 92, 93, 94, 95, 96, 97, 98, 99]\n"
     ]
    }
   ],
   "source": [
    "print(lst)"
   ]
  },
  {
   "cell_type": "code",
   "execution_count": 26,
   "id": "66855150",
   "metadata": {},
   "outputs": [],
   "source": [
    "def binary_search(lst, item): \n",
    "    low = 0 \n",
    "    high = len(lst) -1 # index starts from 0 so the index of highest will always 1 less \n",
    "    # we guess the middle portion \n",
    "    while low<= high:\n",
    "        #this loop till high and low meet\n",
    "        mid = int ((low + high) / 2 )\n",
    "        guess = lst[mid]\n",
    "        if guess == item: \n",
    "            return mid\n",
    "        elif guess < item : \n",
    "            # this means the item is in the right half so update the low \n",
    "            low = mid + 1 # Checking mid is not neccessary\n",
    "        elif guess > item : \n",
    "            # this means the item is in the left half of the guessed so we change the mid as we dont need to search right half\n",
    "            high = mid -1 \n",
    "    # even after entering the loop if it doesn't find the number then there isn't one \n",
    "    return 'NOT FOUND'\n",
    "        "
   ]
  },
  {
   "cell_type": "code",
   "execution_count": 29,
   "id": "c10ffc49",
   "metadata": {},
   "outputs": [
    {
     "data": {
      "text/plain": [
       "'NOT FOUND'"
      ]
     },
     "execution_count": 29,
     "metadata": {},
     "output_type": "execute_result"
    }
   ],
   "source": [
    "binary_search(lst, 11)"
   ]
  },
  {
   "cell_type": "code",
   "execution_count": null,
   "id": "e5cd7a3b",
   "metadata": {},
   "outputs": [],
   "source": []
  }
 ],
 "metadata": {
  "kernelspec": {
   "display_name": "Python 3 (ipykernel)",
   "language": "python",
   "name": "python3"
  },
  "language_info": {
   "codemirror_mode": {
    "name": "ipython",
    "version": 3
   },
   "file_extension": ".py",
   "mimetype": "text/x-python",
   "name": "python",
   "nbconvert_exporter": "python",
   "pygments_lexer": "ipython3",
   "version": "3.11.1"
  }
 },
 "nbformat": 4,
 "nbformat_minor": 5
}
